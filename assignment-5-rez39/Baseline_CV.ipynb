{
 "cells": [
  {
   "cell_type": "markdown",
   "metadata": {
    "id": "OAqF8DSw_5TL"
   },
   "source": [
    "# Getting Started Code for [Chunin Exams Food Track- CV'2021](https://www.aicrowd.com/challenges/chunin-exams-food-track-cv-2021) on AIcrowd\n",
    "#### Author : Pulkit Gera"
   ]
  },
  {
   "cell_type": "markdown",
   "metadata": {
    "id": "0H3J2MVK_5TW"
   },
   "source": [
    "## Download Necessary Packages 📚"
   ]
  },
  {
   "cell_type": "code",
   "execution_count": 1,
   "metadata": {
    "colab": {
     "base_uri": "https://localhost:8080/"
    },
    "id": "psxJC7EC_5TX",
    "outputId": "edd96c01-145c-4a28-f78f-b8ef46116403"
   },
   "outputs": [
    {
     "name": "stdout",
     "output_type": "stream",
     "text": [
      "Collecting aicrowd-cli\n",
      "  Downloading aicrowd_cli-0.1.2-py3-none-any.whl (42 kB)\n",
      "Requirement already satisfied: toml<1,>=0.10.2 in c:\\users\\91709\\anaconda3\\lib\\site-packages (from aicrowd-cli) (0.10.2)\n",
      "Requirement already satisfied: click<8,>=7.1.2 in c:\\users\\91709\\anaconda3\\lib\\site-packages (from aicrowd-cli) (7.1.2)\n",
      "Collecting requests<3,>=2.25.1\n",
      "  Using cached requests-2.25.1-py2.py3-none-any.whl (61 kB)\n",
      "Collecting gitpython<4,>=3.1.12\n",
      "  Downloading GitPython-3.1.14-py3-none-any.whl (159 kB)\n",
      "Collecting tqdm<5,>=4.56.0\n",
      "  Downloading tqdm-4.60.0-py2.py3-none-any.whl (75 kB)\n",
      "Collecting requests-toolbelt<1,>=0.9.1\n",
      "  Downloading requests_toolbelt-0.9.1-py2.py3-none-any.whl (54 kB)\n",
      "Collecting rich<11,>=10.0.0\n",
      "  Downloading rich-10.1.0-py3-none-any.whl (201 kB)\n",
      "Requirement already satisfied: idna<3,>=2.5 in c:\\users\\91709\\anaconda3\\lib\\site-packages (from requests<3,>=2.25.1->aicrowd-cli) (2.10)\n",
      "Requirement already satisfied: certifi>=2017.4.17 in c:\\users\\91709\\anaconda3\\lib\\site-packages (from requests<3,>=2.25.1->aicrowd-cli) (2020.6.20)\n",
      "Requirement already satisfied: chardet<5,>=3.0.2 in c:\\users\\91709\\anaconda3\\lib\\site-packages (from requests<3,>=2.25.1->aicrowd-cli) (3.0.4)\n",
      "Requirement already satisfied: urllib3<1.27,>=1.21.1 in c:\\users\\91709\\anaconda3\\lib\\site-packages (from requests<3,>=2.25.1->aicrowd-cli) (1.25.9)\n",
      "Collecting gitdb<5,>=4.0.1\n",
      "  Downloading gitdb-4.0.7-py3-none-any.whl (63 kB)\n",
      "Requirement already satisfied: colorama<0.5.0,>=0.4.0 in c:\\users\\91709\\anaconda3\\lib\\site-packages (from rich<11,>=10.0.0->aicrowd-cli) (0.4.3)\n",
      "Collecting commonmark<0.10.0,>=0.9.0\n",
      "  Downloading commonmark-0.9.1-py2.py3-none-any.whl (51 kB)\n",
      "Requirement already satisfied: typing-extensions<4.0.0,>=3.7.4 in c:\\users\\91709\\anaconda3\\lib\\site-packages (from rich<11,>=10.0.0->aicrowd-cli) (3.7.4.2)\n",
      "Requirement already satisfied: pygments<3.0.0,>=2.6.0 in c:\\users\\91709\\anaconda3\\lib\\site-packages (from rich<11,>=10.0.0->aicrowd-cli) (2.6.1)\n",
      "Collecting smmap<5,>=3.0.1\n",
      "  Downloading smmap-4.0.0-py2.py3-none-any.whl (24 kB)\n",
      "Installing collected packages: requests, smmap, gitdb, gitpython, tqdm, requests-toolbelt, commonmark, rich, aicrowd-cli\n",
      "  Attempting uninstall: requests\n",
      "    Found existing installation: requests 2.24.0\n",
      "    Uninstalling requests-2.24.0:\n",
      "      Successfully uninstalled requests-2.24.0\n",
      "  Attempting uninstall: tqdm\n",
      "    Found existing installation: tqdm 4.47.0\n",
      "    Uninstalling tqdm-4.47.0:\n",
      "      Successfully uninstalled tqdm-4.47.0\n",
      "Successfully installed aicrowd-cli-0.1.2 commonmark-0.9.1 gitdb-4.0.7 gitpython-3.1.14 requests-2.25.1 requests-toolbelt-0.9.1 rich-10.1.0 smmap-4.0.0 tqdm-4.60.0\n"
     ]
    }
   ],
   "source": [
    "!pip install aicrowd-cli"
   ]
  },
  {
   "cell_type": "markdown",
   "metadata": {
    "id": "D5L6NxEe_5TZ"
   },
   "source": [
    "## Download Data\n",
    "The first step is to download out train test data. We will be training a model on the train data and make predictions on test data. We submit our predictions.\n"
   ]
  },
  {
   "cell_type": "code",
   "execution_count": 2,
   "metadata": {
    "colab": {
     "base_uri": "https://localhost:8080/"
    },
    "id": "lyF9gbdx_5TZ",
    "outputId": "da27ed41-fe2a-4904-a5f0-6e8f09527a33"
   },
   "outputs": [
    {
     "name": "stderr",
     "output_type": "stream",
     "text": [
      "Traceback (most recent call last):\n",
      "  File \"c:\\users\\91709\\anaconda3\\lib\\site-packages\\git\\__init__.py\", line 83, in <module>\n",
      "    refresh()\n",
      "  File \"c:\\users\\91709\\anaconda3\\lib\\site-packages\\git\\__init__.py\", line 73, in refresh\n",
      "    if not Git.refresh(path=path):\n",
      "  File \"c:\\users\\91709\\anaconda3\\lib\\site-packages\\git\\cmd.py\", line 278, in refresh\n",
      "    raise ImportError(err)\n",
      "ImportError: Bad git executable.\n",
      "The git executable must be specified in one of the following ways:\n",
      "    - be included in your $PATH\n",
      "    - be set via $GIT_PYTHON_GIT_EXECUTABLE\n",
      "    - explicitly set via git.refresh()\n",
      "\n",
      "All git commands will error until this is rectified.\n",
      "\n",
      "This initial warning can be silenced or aggravated in the future by setting the\n",
      "$GIT_PYTHON_REFRESH environment variable. Use one of the following values:\n",
      "    - quiet|q|silence|s|none|n|0: for no warning or exception\n",
      "    - warn|w|warning|1: for a printed warning\n",
      "    - error|e|raise|r|2: for a raised exception\n",
      "\n",
      "Example:\n",
      "    export GIT_PYTHON_REFRESH=quiet\n",
      "\n",
      "\n",
      "The above exception was the direct cause of the following exception:\n",
      "\n",
      "Traceback (most recent call last):\n",
      "  File \"c:\\users\\91709\\anaconda3\\lib\\runpy.py\", line 194, in _run_module_as_main\n",
      "    return _run_code(code, main_globals, None,\n",
      "  File \"c:\\users\\91709\\anaconda3\\lib\\runpy.py\", line 87, in _run_code\n",
      "    exec(code, run_globals)\n",
      "  File \"C:\\Users\\91709\\anaconda3\\Scripts\\aicrowd.exe\\__main__.py\", line 4, in <module>\n",
      "  File \"c:\\users\\91709\\anaconda3\\lib\\site-packages\\aicrowd\\cli.py\", line 13, in <module>\n",
      "    from aicrowd.contexts import pass_config, ConfigContext\n",
      "  File \"c:\\users\\91709\\anaconda3\\lib\\site-packages\\aicrowd\\contexts\\__init__.py\", line 5, in <module>\n",
      "    from aicrowd.contexts.challenge import Challenge\n",
      "  File \"c:\\users\\91709\\anaconda3\\lib\\site-packages\\aicrowd\\contexts\\challenge.py\", line 8, in <module>\n",
      "    from git import Repo\n",
      "  File \"c:\\users\\91709\\anaconda3\\lib\\site-packages\\git\\__init__.py\", line 85, in <module>\n",
      "    raise ImportError('Failed to initialize: {0}'.format(exc)) from exc\n",
      "ImportError: Failed to initialize: Bad git executable.\n",
      "The git executable must be specified in one of the following ways:\n",
      "    - be included in your $PATH\n",
      "    - be set via $GIT_PYTHON_GIT_EXECUTABLE\n",
      "    - explicitly set via git.refresh()\n",
      "\n",
      "All git commands will error until this is rectified.\n",
      "\n",
      "This initial warning can be silenced or aggravated in the future by setting the\n",
      "$GIT_PYTHON_REFRESH environment variable. Use one of the following values:\n",
      "    - quiet|q|silence|s|none|n|0: for no warning or exception\n",
      "    - warn|w|warning|1: for a printed warning\n",
      "    - error|e|raise|r|2: for a raised exception\n",
      "\n",
      "Example:\n",
      "    export GIT_PYTHON_REFRESH=quiet\n",
      "\n"
     ]
    }
   ],
   "source": [
    "API_KEY = \"fd1aed7204268f0bae2780fb808a4063\" #Please enter your API Key from [https://www.aicrowd.com/participants/me]\n",
    "!aicrowd login --api-key $API_KEY"
   ]
  },
  {
   "cell_type": "code",
   "execution_count": 10,
   "metadata": {
    "colab": {
     "base_uri": "https://localhost:8080/"
    },
    "id": "hx8pHTHZ_5Ta",
    "outputId": "ce730715-1fe5-4e54-ee15-f60ef21bf75b"
   },
   "outputs": [
    {
     "name": "stdout",
     "output_type": "stream",
     "text": [
      "train_images.zip: 100% 754M/754M [00:40<00:00, 18.7MB/s]\n",
      "test_images.zip: 100% 33.9M/33.9M [00:01<00:00, 25.8MB/s]\n",
      "train.csv: 100% 253k/253k [00:00<00:00, 1.02MB/s]\n",
      "test.csv: 100% 7.27k/7.27k [00:00<00:00, 801kB/s]\n"
     ]
    }
   ],
   "source": [
    "!aicrowd dataset download --challenge chunin-exams-food-track-cv-2021"
   ]
  },
  {
   "cell_type": "code",
   "execution_count": 5,
   "metadata": {
    "id": "8NwyXyca_5Ta"
   },
   "outputs": [],
   "source": [
    "!rm -rf data\n",
    "!mkdir data\n"
   ]
  },
  {
   "cell_type": "markdown",
   "metadata": {
    "id": "5IX79Ffa_5Te"
   },
   "source": [
    "## Making Direct Submission thought Aicrowd CLI"
   ]
  },
  {
   "cell_type": "code",
   "execution_count": null,
   "metadata": {
    "colab": {
     "base_uri": "https://localhost:8080/"
    },
    "id": "-j1W9w4t_5Te",
    "outputId": "c0a9a039-1f79-49f6-9e87-7d7bc8ddc2e2"
   },
   "outputs": [
    {
     "name": "stdout",
     "output_type": "stream",
     "text": [
      "\u001b[2K\u001b[1;34msubmission.csv\u001b[0m \u001b[90m━━━━━━━━━━━━━━━━━━━━━━\u001b[0m \u001b[35m100.0%\u001b[0m • \u001b[32m13.1/11.5 KB\u001b[0m • \u001b[31m1.4 MB/s\u001b[0m • \u001b[36m0:00:00\u001b[0m\n",
      "\u001b[?25h                                                 ╭─────────────────────────╮                                                  \n",
      "                                                 │ \u001b[1mSuccessfully submitted!\u001b[0m │                                                  \n",
      "                                                 ╰─────────────────────────╯                                                  \n",
      "\u001b[3m                                                       Important links                                                        \u001b[0m\n",
      "┌──────────────────┬─────────────────────────────────────────────────────────────────────────────────────────────────────────┐\n",
      "│  This submission │ https://www.aicrowd.com/challenges/ai-blitz-7/problems/stage-prediction/submissions/125933              │\n",
      "│                  │                                                                                                         │\n",
      "│  All submissions │ https://www.aicrowd.com/challenges/ai-blitz-7/problems/stage-prediction/submissions?my_submissions=true │\n",
      "│                  │                                                                                                         │\n",
      "│      Leaderboard │ https://www.aicrowd.com/challenges/ai-blitz-7/problems/stage-prediction/leaderboards                    │\n",
      "│                  │                                                                                                         │\n",
      "│ Discussion forum │ https://discourse.aicrowd.com/c/ai-blitz-7                                                              │\n",
      "│                  │                                                                                                         │\n",
      "│   Challenge page │ https://www.aicrowd.com/challenges/ai-blitz-7/problems/stage-prediction                                 │\n",
      "└──────────────────┴─────────────────────────────────────────────────────────────────────────────────────────────────────────┘\n",
      "{'submission_id': 125933, 'created_at': '2021-03-12T14:32:25.301Z'}\n"
     ]
    }
   ],
   "source": [
    "!aicrowd submission create -c chunin-exams-food-track-cv-2021 -f submission.csv"
   ]
  }
 ],
 "metadata": {
  "colab": {
   "collapsed_sections": [],
   "name": "Baseline CV",
   "provenance": [],
   "toc_visible": true
  },
  "kernelspec": {
   "display_name": "Python 3",
   "language": "python",
   "name": "python3"
  },
  "language_info": {
   "codemirror_mode": {
    "name": "ipython",
    "version": 3
   },
   "file_extension": ".py",
   "mimetype": "text/x-python",
   "name": "python",
   "nbconvert_exporter": "python",
   "pygments_lexer": "ipython3",
   "version": "3.8.3"
  }
 },
 "nbformat": 4,
 "nbformat_minor": 1
}
